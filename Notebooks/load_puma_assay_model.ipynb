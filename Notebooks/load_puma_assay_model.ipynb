{
 "cells": [
  {
   "cell_type": "code",
   "execution_count": 1,
   "metadata": {},
   "outputs": [],
   "source": [
    "%load_ext autoreload\n",
    "%autoreload 2\n",
    "\n",
    "import pandas as pd\n",
    "import numpy as np\n",
    "from multimodal_contrastive.data.dataset import TestDataset, CustomSubset\n",
    "from multimodal_contrastive.networks.models import MultiTask_FP_PL\n",
    "from multimodal_contrastive.analysis.utils import make_eval_data_loader\n",
    "import torch"
   ]
  },
  {
   "cell_type": "markdown",
   "metadata": {},
   "source": [
    "## Load Model"
   ]
  },
  {
   "cell_type": "code",
   "execution_count": 2,
   "metadata": {},
   "outputs": [
    {
     "data": {
      "text/plain": [
       "MultiTask_FP_PL(\n",
       "  (loss): MultiTaskLoss()\n",
       "  (encoder): FP_MLP(\n",
       "    (mlp): MultiLayerPerceptron(\n",
       "      (module): Sequential(\n",
       "        (0): Linear(in_features=2048, out_features=64, bias=True)\n",
       "        (1): BatchNorm1d(64, eps=1e-05, momentum=0.1, affine=True, track_running_stats=True)\n",
       "        (2): ReLU()\n",
       "        (3): Dropout(p=0.0, inplace=False)\n",
       "        (4): Linear(in_features=64, out_features=64, bias=True)\n",
       "        (5): BatchNorm1d(64, eps=1e-05, momentum=0.1, affine=True, track_running_stats=True)\n",
       "        (6): ReLU()\n",
       "        (7): Dropout(p=0.0, inplace=False)\n",
       "        (8): Linear(in_features=64, out_features=37, bias=True)\n",
       "      )\n",
       "    )\n",
       "  )\n",
       ")"
      ]
     },
     "execution_count": 2,
     "metadata": {},
     "output_type": "execute_result"
    }
   ],
   "source": [
    "ckpt = '/home/mila/s/stephen.lu/gfn_gene/res/mmc/models/puma_assay_epoch=139.ckpt'\n",
    "\n",
    "if torch.cuda.is_available() == False:\n",
    "    device = torch.device('cpu')\n",
    "else:\n",
    "    device = None\n",
    "\n",
    "model = MultiTask_FP_PL.load_from_checkpoint(ckpt, map_location=device)\n",
    "model.eval()"
   ]
  },
  {
   "cell_type": "markdown",
   "metadata": {},
   "source": [
    "## Load Data"
   ]
  },
  {
   "cell_type": "code",
   "execution_count": 20,
   "metadata": {},
   "outputs": [],
   "source": [
    "# load dataset and test set smiles\n",
    "data_dir = '/home/mila/s/stephen.lu/scratch/mmc/datasets/'\n",
    "dataset = TestDataset(data_dir + 'assay_matrix_discrete_37_assays_canonical.csv')\n",
    "target_assay_smi = np.load(data_dir + 'assay_targets_smi.npy')"
   ]
  },
  {
   "cell_type": "code",
   "execution_count": 21,
   "metadata": {},
   "outputs": [
    {
     "name": "stdout",
     "output_type": "stream",
     "text": [
      "[36, 821, 1648, 2040, 6470, 8362, 9552, 13210]\n",
      "8\n"
     ]
    }
   ],
   "source": [
    "# Get the rows of the dataset corresponding to the test set smiles\n",
    "target_idx = [np.where(np.array(dataset.ids)==_)[0][0] for _ in target_assay_smi if _ in set(dataset.ids)]\n",
    "print(target_idx)\n",
    "\n",
    "target_dataset = CustomSubset(dataset, [i for i in range(len(dataset)) if i in target_idx])\n",
    "# target_dataset = CustomSubset(dataset, np.arange(len(dataset)))\n",
    "print(len(target_dataset))"
   ]
  },
  {
   "cell_type": "code",
   "execution_count": 24,
   "metadata": {},
   "outputs": [
    {
     "name": "stdout",
     "output_type": "stream",
     "text": [
      "tensor([[False, False,  True, False, False, False, False, False,  True, False,\n",
      "         False, False, False, False, False, False, False, False, False, False,\n",
      "          True, False, False, False, False, False, False, False, False, False,\n",
      "         False, False, False, False, False, False, False],\n",
      "        [False, False,  True, False, False, False, False, False, False, False,\n",
      "         False, False, False, False, False, False, False, False, False, False,\n",
      "         False, False, False, False, False, False, False,  True,  True, False,\n",
      "          True, False,  True, False,  True, False, False],\n",
      "        [False, False, False, False, False, False, False,  True, False, False,\n",
      "         False, False, False, False, False, False, False,  True, False,  True,\n",
      "         False, False, False, False, False, False, False, False, False,  True,\n",
      "         False, False, False,  True, False, False, False],\n",
      "        [False, False,  True,  True, False, False, False, False,  True, False,\n",
      "         False, False, False, False, False, False, False, False, False, False,\n",
      "          True, False, False, False, False, False, False, False, False, False,\n",
      "         False, False, False, False, False, False, False],\n",
      "        [False, False,  True, False, False, False, False, False, False, False,\n",
      "         False, False, False, False, False, False, False, False, False, False,\n",
      "         False, False, False, False, False, False, False, False, False, False,\n",
      "         False, False, False, False, False, False, False],\n",
      "        [False, False,  True, False, False, False, False, False, False, False,\n",
      "         False, False, False, False, False, False, False, False, False, False,\n",
      "         False, False, False, False, False, False, False, False, False, False,\n",
      "         False, False, False, False, False, False, False],\n",
      "        [False, False,  True,  True, False, False, False, False,  True, False,\n",
      "         False, False, False, False, False, False, False, False, False, False,\n",
      "          True, False, False, False, False, False, False, False, False, False,\n",
      "         False, False, False, False, False, False, False],\n",
      "        [False, False,  True, False, False, False, False, False,  True, False,\n",
      "         False, False, False, False, False, False, False, False, False, False,\n",
      "         False, False, False, False, False, False, False, False, False, False,\n",
      "         False, False, False, False, False, False, False]])\n",
      "Accuracy: 0.8846153846153846\n",
      "Precision: 0.25\n",
      "Recall: 1.0\n",
      "F1: 0.4\n"
     ]
    }
   ],
   "source": [
    "# measure the performance using accuracy, precision, recall, f1\n",
    "from sklearn.metrics import accuracy_score, precision_score, recall_score, f1_score\n",
    "\n",
    "# get predictions for the test set\n",
    "loader = make_eval_data_loader(target_dataset.dataset, batch_size=len(target_dataset))\n",
    "\n",
    "for batch in loader:\n",
    "    y = batch['labels']\n",
    "    y_hat = model(batch)\n",
    "\n",
    "    idx_to_keep = ~torch.isnan(y)\n",
    "    y = y[idx_to_keep].cpu().numpy()\n",
    "    y_hat = y_hat[0][idx_to_keep].detach().cpu().numpy()\n",
    "\n",
    "    # choose the best threshold depending on f1 score\n",
    "    thresholds = np.linspace(0, 1, 100)\n",
    "    best_f1 = 0\n",
    "\n",
    "    for threshold in thresholds:\n",
    "        y_pred = y_hat > threshold\n",
    "        f1 = f1_score(y, y_pred)\n",
    "        if f1 > best_f1:\n",
    "            best_f1 = f1\n",
    "            best_threshold = threshold\n",
    "\n",
    "    y_pred = y_hat > best_threshold\n",
    "\n",
    "    # measure the performance using accuracy, precision, recall, f1\n",
    "    print('Accuracy:', accuracy_score(y, y_pred))\n",
    "    print('Precision:', precision_score(y, y_pred))\n",
    "    print('Recall:', recall_score(y, y_pred))\n",
    "    print('F1:', f1_score(y, y_pred))\n",
    "\n",
    "    break"
   ]
  },
  {
   "cell_type": "code",
   "execution_count": null,
   "metadata": {},
   "outputs": [],
   "source": []
  }
 ],
 "metadata": {
  "kernelspec": {
   "display_name": "Python 3",
   "language": "python",
   "name": "python3"
  },
  "language_info": {
   "codemirror_mode": {
    "name": "ipython",
    "version": 3
   },
   "file_extension": ".py",
   "mimetype": "text/x-python",
   "name": "python",
   "nbconvert_exporter": "python",
   "pygments_lexer": "ipython3",
   "version": "3.10.13"
  }
 },
 "nbformat": 4,
 "nbformat_minor": 2
}
